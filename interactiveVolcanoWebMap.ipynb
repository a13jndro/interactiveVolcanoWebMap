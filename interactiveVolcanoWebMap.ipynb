{
 "cells": [
  {
   "cell_type": "code",
   "execution_count": 60,
   "id": "f12efe07",
   "metadata": {},
   "outputs": [],
   "source": [
    "import folium as fo\n",
    "# map = fo.Map(location=[29.76,-95.36], zoom_start=6, tiles=\"Mapbox Bright\") --> ValueError: Built-in templates for Mapbox and Cloudmade have been removed.\n",
    "map = fo.Map(location=[29.76,-95.36], zoom_start=6, tiles=\"Stamen Terrain\")"
   ]
  },
  {
   "cell_type": "code",
   "execution_count": 61,
   "id": "d8804ff7",
   "metadata": {},
   "outputs": [],
   "source": [
    "#Adding a child object\n",
    "fg = fo.FeatureGroup(name = \"My Map\")\n",
    "# Adding multiple markers\n",
    "\n",
    "for index, coordinates in enumerate([[29.76,-95.36], [29.75,-95.34]]):\n",
    "    fg.add_child(fo.Marker(location=coordinates, popup=f\"Location {index+1}\", icon=fo.Icon(color='green')))"
   ]
  },
  {
   "cell_type": "code",
   "execution_count": 138,
   "id": "bf33947e",
   "metadata": {
    "scrolled": true
   },
   "outputs": [],
   "source": [
    "# map.add_child(fo.Marker(location=[29.76, -95.36], popup=\"Hi I am a Marker\", icon=fo.Icon(color='red')))\n",
    "# fg.add_child(fo.Marker(location=[29.76, -95.36], popup=\"Main Location\", icon=fo.Icon(color='red')))\n",
    "map.add_child(fg)"
   ]
  },
  {
   "cell_type": "code",
   "execution_count": 63,
   "id": "a3bc5122",
   "metadata": {},
   "outputs": [
    {
     "data": {
      "text/plain": [
       "Index(['VOLCANX020', 'NUMBER', 'NAME', 'LOCATION', 'STATUS', 'ELEV', 'TYPE',\n",
       "       'TIMEFRAME', 'LAT', 'LON'],\n",
       "      dtype='object')"
      ]
     },
     "execution_count": 63,
     "metadata": {},
     "output_type": "execute_result"
    }
   ],
   "source": [
    "import pandas as pd\n",
    "data = pd.read_csv(\"Volcanoes.txt\") #delimiter=',' by default\n",
    "data.columns"
   ]
  },
  {
   "cell_type": "code",
   "execution_count": 64,
   "id": "b14a7a8c",
   "metadata": {},
   "outputs": [],
   "source": [
    "#creating lists from columns\n",
    "lon = list(data[\"LON\"])\n",
    "lat = list(data[\"LAT\"])"
   ]
  },
  {
   "cell_type": "code",
   "execution_count": 139,
   "id": "558498d9",
   "metadata": {
    "scrolled": true
   },
   "outputs": [],
   "source": [
    "map = fo.Map(location=[29.76,-95.36], zoom_start=6, tiles=\"Stamen Terrain\")\n",
    "fg0 = fo.FeatureGroup(name = \"My Map0\")\n",
    "\n",
    "for lt, ln in zip(lat,lon):\n",
    "    fg0.add_child(fo.Marker(location=[lt,ln], popup=\"Location\", icon=fo.Icon(color='red')))\n",
    "    \n",
    "map.add_child(fg0)"
   ]
  },
  {
   "cell_type": "code",
   "execution_count": 140,
   "id": "b4d7d961",
   "metadata": {
    "scrolled": true
   },
   "outputs": [],
   "source": [
    "#creating dynamic pop-ups text to the markers by using the elevation column\n",
    "map = fo.Map(location=[29.76,-95.36], zoom_start=6, tiles=\"Stamen Terrain\")\n",
    "fg01 = fo.FeatureGroup(name = \"My Map01\")\n",
    "\n",
    "elev = list(data[\"ELEV\"])\n",
    "for lt, ln, el in zip(lat,lon,elev):\n",
    "    fg01.add_child(fo.Marker(location=[lt,ln], popup=str(el) + ' m', icon=fo.Icon(color='red')))\n",
    "    \n",
    "map.add_child(fg01)"
   ]
  },
  {
   "cell_type": "code",
   "execution_count": 94,
   "id": "cf5da5ef",
   "metadata": {},
   "outputs": [],
   "source": [
    "map.save(\"Map1.html\")"
   ]
  },
  {
   "cell_type": "code",
   "execution_count": 97,
   "id": "26b3d4bc",
   "metadata": {},
   "outputs": [],
   "source": [
    "#Stylized the text\n",
    "\n",
    "html = \"\"\"<h4>Volcano information:</h4>\n",
    "Height: %s m\n",
    "\"\"\"\n",
    "fg02 = fo.FeatureGroup(name = \"My Map02\")\n",
    "    \n",
    "for lt, ln, el in zip(lat, lon, elev):\n",
    "    iframe = fo.IFrame(html=html % str(el), width=200, height=100)\n",
    "    fg.add_child(fo.Marker(location=[lt, ln], popup=fo.Popup(iframe), icon = fo.Icon(color = \"blue\")))\n",
    " \n",
    " \n",
    "map.add_child(fg02)\n",
    "map.save(\"Map_html_popup_simple.html\")"
   ]
  },
  {
   "cell_type": "code",
   "execution_count": 141,
   "id": "3c169dbc",
   "metadata": {},
   "outputs": [],
   "source": [
    "#links in the popup windows\n",
    "name = list(data[\"NAME\"])\n",
    "\n",
    "map = fo.Map(location=[29.76,-95.36], zoom_start=6, tiles=\"Stamen Terrain\")\n",
    "fg03 = fo.FeatureGroup(name = \"My Map03\")\n",
    "\n",
    "html = \"\"\"\n",
    "Volcano name:<br>\n",
    "<a href=\"https://www.google.com/search?q=%%22%s%%22\" target=\"_blank\">%s</a><br>\n",
    "Height: %s m\n",
    "\"\"\"\n",
    " \n",
    "for lt, ln, el, name in zip(lat, lon, elev, name):\n",
    "    iframe = fo.IFrame(html=html % (name, name, el), width=200, height=100)\n",
    "    fg03.add_child(fo.Marker(location=[lt, ln], popup=fo.Popup(iframe), icon = fo.Icon(color = \"green\")))\n",
    "  \n",
    "map.add_child(fg03)"
   ]
  },
  {
   "cell_type": "code",
   "execution_count": 142,
   "id": "586dcfca",
   "metadata": {
    "scrolled": true
   },
   "outputs": [],
   "source": [
    "#Changing the color depending on the elevation of the volcanoes\n",
    "\n",
    "map = fo.Map(location=[29.76,-95.36], zoom_start=6, tiles=\"Stamen Terrain\")\n",
    "fg04 = fo.FeatureGroup(name = \"My Map04\")\n",
    "\n",
    "def color_producer(elevation):\n",
    "    if elevation < 1000:\n",
    "        return 'green'\n",
    "    elif 1000<= elevation <= 3000:\n",
    "        return 'orange'\n",
    "    else:\n",
    "        return 'red'\n",
    "    \n",
    "for lt, ln, el in zip(lat,lon,elev):\n",
    "    fg04.add_child(fo.CircleMarker(location=[lt,ln], radius = 6, popup=f\"{el} m\",\n",
    "    fill_color = color_producer(el), color = 'grey', fill_opacity=0.7))\n",
    "    \n",
    "map.add_child(fg04)\n",
    "#check dir(fo)"
   ]
  },
  {
   "cell_type": "code",
   "execution_count": 143,
   "id": "df8238db",
   "metadata": {},
   "outputs": [
    {
     "data": {
      "text/plain": [
       "<folium.map.FeatureGroup at 0x27468e9a4c0>"
      ]
     },
     "execution_count": 143,
     "metadata": {},
     "output_type": "execute_result"
    }
   ],
   "source": [
    "#adding polygons using the folium.json method\n",
    "\n",
    "map = fo.Map(location=[29.76,-95.36], zoom_start=6, tiles=\"Stamen Terrain\")\n",
    "fg05 = fo.FeatureGroup(name = \"My Map05\")\n",
    "\n",
    "def color_producer(elevation):\n",
    "    if elevation < 1000:\n",
    "        return 'green'\n",
    "    elif 1000<= elevation <= 3000:\n",
    "        return 'orange'\n",
    "    else:\n",
    "        return 'red'\n",
    "    \n",
    "for lt, ln, el in zip(lat,lon,elev):\n",
    "    fg05.add_child(fo.CircleMarker(location=[lt,ln], radius = 6, popup=f\"{el} m\",\n",
    "    fill_color = color_producer(el), color = 'grey', fill_opacity=0.7))\n",
    "\n",
    "fg05.add_child(fo.GeoJson(data=(open('world.json','r',encoding='utf-8-sig').read())))    \n",
    "\n",
    "map.add_child(fg05)"
   ]
  },
  {
   "cell_type": "code",
   "execution_count": 144,
   "id": "0f2dfd13",
   "metadata": {},
   "outputs": [
    {
     "data": {
      "text/plain": [
       "<folium.map.FeatureGroup at 0x27471d71100>"
      ]
     },
     "execution_count": 144,
     "metadata": {},
     "output_type": "execute_result"
    }
   ],
   "source": [
    "#making a country by population map\n",
    "map = fo.Map(location=[29.76,-95.36], zoom_start=6, tiles=\"Stamen Terrain\")\n",
    "fg06 = fo.FeatureGroup(name = \"My Map06\")\n",
    "\n",
    "def color_producer(elevation):\n",
    "    if elevation < 1000:\n",
    "        return 'green'\n",
    "    elif 1000<= elevation <= 3000:\n",
    "        return 'orange'\n",
    "    else:\n",
    "        return 'red'\n",
    "    \n",
    "for lt, ln, el in zip(lat,lon,elev):\n",
    "    fg06.add_child(fo.CircleMarker(location=[lt,ln], radius = 6, popup=f\"{el} m\",\n",
    "    fill_color = color_producer(el), color = 'grey', fill_opacity=0.7))\n",
    "\n",
    "fg06.add_child(fo.GeoJson(data=open('world.json','r',encoding='utf-8-sig').read(),\n",
    "style_function=lambda x: {'fillColor':'yellow' if x['properties']['POP2005']<10000000\n",
    "else 'orange' if 10000000 <= x['properties']['POP2005'] < 20000000 else 'red'}))\n",
    "\n",
    "map.add_child(fg06)"
   ]
  },
  {
   "cell_type": "code",
   "execution_count": 145,
   "id": "309d3b15",
   "metadata": {},
   "outputs": [
    {
     "data": {
      "text/plain": [
       "<folium.map.FeatureGroup at 0x2746f5cae50>"
      ]
     },
     "execution_count": 145,
     "metadata": {},
     "output_type": "execute_result"
    }
   ],
   "source": [
    "#Adding a layer control panel to turn them on and off\n",
    "map = fo.Map(location=[29.76,-95.36], zoom_start=6, tiles=\"Stamen Terrain\")\n",
    "# fg07 = fo.FeatureGroup(name = \"My Map07\")\n",
    "fvol = fo.FeatureGroup(name = \"Volcanoes\")\n",
    "\n",
    "def color_producer(elevation):\n",
    "    if elevation < 1000:\n",
    "        return 'green'\n",
    "    elif 1000<= elevation <= 3000:\n",
    "        return 'orange'\n",
    "    else:\n",
    "        return 'red'\n",
    "    \n",
    "for lt, ln, el in zip(lat,lon,elev):\n",
    "    fvol.add_child(fo.CircleMarker(location=[lt,ln], radius = 6, popup=f\"{el} m\",\n",
    "    fill_color = color_producer(el), color = 'grey', fill_opacity=0.7))\n",
    "\n",
    "fpop = fo.FeatureGroup(name = \"Population\")\n",
    "    \n",
    "fpop.add_child(fo.GeoJson(data=open('world.json','r',encoding='utf-8-sig').read(),\n",
    "style_function=lambda x: {'fillColor':'yellow' if x['properties']['POP2005']<10000000\n",
    "else 'orange' if 10000000 <= x['properties']['POP2005'] < 20000000 else 'red'}))\n",
    "\n",
    "# map.add_child(fvol)\n",
    "# map.add_child(fpop)\n",
    "# map.add_child(fo.LayerControl()) # must be after previos two"
   ]
  },
  {
   "cell_type": "code",
   "execution_count": 146,
   "id": "075f3f88",
   "metadata": {},
   "outputs": [],
   "source": [
    "map.save(\"Map_html_popup_advanced.html\")"
   ]
  }
 ],
 "metadata": {
  "kernelspec": {
   "display_name": "Python 3 (ipykernel)",
   "language": "python",
   "name": "python3"
  },
  "language_info": {
   "codemirror_mode": {
    "name": "ipython",
    "version": 3
   },
   "file_extension": ".py",
   "mimetype": "text/x-python",
   "name": "python",
   "nbconvert_exporter": "python",
   "pygments_lexer": "ipython3",
   "version": "3.9.12"
  }
 },
 "nbformat": 4,
 "nbformat_minor": 5
}
