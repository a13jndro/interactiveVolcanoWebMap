{
 "cells": [
  {
   "cell_type": "code",
   "execution_count": 1,
   "id": "f12efe07",
   "metadata": {},
   "outputs": [],
   "source": [
    "import folium as fo\n",
    "# map = fo.Map(location=[29.76,-95.36], zoom_start=6, tiles=\"Mapbox Bright\") --> ValueError: Built-in templates for Mapbox and Cloudmade have been removed.\n",
    "map = fo.Map(location=[29.76,-95.36], zoom_start=6, tiles=\"Stamen Terrain\")"
   ]
  },
  {
   "cell_type": "code",
   "execution_count": 2,
   "id": "d8804ff7",
   "metadata": {},
   "outputs": [],
   "source": [
    "#Adding a child object\n",
    "fg = fo.FeatureGroup(name = \"My Map\")\n",
    "# Adding multiple markers\n",
    "\n",
    "for index, coordinates in enumerate([[29.76,-95.36], [29.75,-95.34]]):\n",
    "    fg.add_child(fo.Marker(location=coordinates, popup=f\"Location {index+1}\", icon=fo.Icon(color='green')))"
   ]
  },
  {
   "cell_type": "code",
   "execution_count": 21,
   "id": "bf33947e",
   "metadata": {
    "scrolled": true
   },
   "outputs": [],
   "source": [
    "# map.add_child(fo.Marker(location=[29.76, -95.36], popup=\"Hi I am a Marker\", icon=fo.Icon(color='red')))\n",
    "# fg.add_child(fo.Marker(location=[29.76, -95.36], popup=\"Main Location\", icon=fo.Icon(color='red')))\n",
    "map.add_child(fg)"
   ]
  },
  {
   "cell_type": "code",
   "execution_count": 4,
   "id": "a3bc5122",
   "metadata": {},
   "outputs": [
    {
     "data": {
      "text/plain": [
       "Index(['VOLCANX020', 'NUMBER', 'NAME', 'LOCATION', 'STATUS', 'ELEV', 'TYPE',\n",
       "       'TIMEFRAME', 'LAT', 'LON'],\n",
       "      dtype='object')"
      ]
     },
     "execution_count": 4,
     "metadata": {},
     "output_type": "execute_result"
    }
   ],
   "source": [
    "import pandas as pd\n",
    "data = pd.read_csv(\"Volcanoes.txt\") #delimiter=',' by default\n",
    "data.columns"
   ]
  },
  {
   "cell_type": "code",
   "execution_count": 5,
   "id": "b14a7a8c",
   "metadata": {},
   "outputs": [],
   "source": [
    "#creating lists from columns\n",
    "lon = list(data[\"LON\"])\n",
    "lat = list(data[\"LAT\"])"
   ]
  },
  {
   "cell_type": "code",
   "execution_count": 22,
   "id": "558498d9",
   "metadata": {
    "scrolled": true
   },
   "outputs": [],
   "source": [
    "for lt, ln in zip(lat,lon):\n",
    "    fg.add_child(fo.Marker(location=[lt,ln], popup=\"Location\", icon=fo.Icon(color='red')))\n",
    "    \n",
    "map.add_child(fg)"
   ]
  },
  {
   "cell_type": "code",
   "execution_count": 23,
   "id": "b4d7d961",
   "metadata": {
    "scrolled": true
   },
   "outputs": [],
   "source": [
    "#creating dynamic pop-ups text to the markers by using the elevation column\n",
    "elev = list(data[\"ELEV\"])\n",
    "for lt, ln, el in zip(lat,lon,elev):\n",
    "    fg.add_child(fo.Marker(location=[lt,ln], popup=f\"{el} m\", icon=fo.Icon(color='red')))\n",
    "    \n",
    "map.add_child(fg)"
   ]
  },
  {
   "cell_type": "code",
   "execution_count": 8,
   "id": "cf5da5ef",
   "metadata": {},
   "outputs": [],
   "source": [
    "map.save(\"Map1.html\")"
   ]
  },
  {
   "cell_type": "code",
   "execution_count": 17,
   "id": "26b3d4bc",
   "metadata": {},
   "outputs": [],
   "source": [
    "#Stylized the text\n",
    "\n",
    "html = \"\"\"<h4>Volcano information:</h4>\n",
    "Height: %s m\n",
    "\"\"\"\n",
    "g = fo.FeatureGroup(name = \"My Map\")\n",
    "    \n",
    "for lt, ln, el in zip(lat, lon, elev):\n",
    "    iframe = fo.IFrame(html=html % str(el), width=200, height=100)\n",
    "    fg.add_child(fo.Marker(location=[lt, ln], popup=fo.Popup(iframe), icon = fo.Icon(color = \"blue\")))\n",
    " \n",
    " \n",
    "map.add_child(fg)\n",
    "map.save(\"Map_html_popup_simple.html\")"
   ]
  },
  {
   "cell_type": "code",
   "execution_count": null,
   "id": "df5200c4",
   "metadata": {},
   "outputs": [],
   "source": [
    "#links in the popup windows"
   ]
  },
  {
   "cell_type": "code",
   "execution_count": 20,
   "id": "3c169dbc",
   "metadata": {},
   "outputs": [],
   "source": [
    "name = list(data[\"NAME\"])\n",
    "\n",
    "html = \"\"\"\n",
    "Volcano name:<br>\n",
    "<a href=\"https://www.google.com/search?q=%%22%s%%22\" target=\"_blank\">%s</a><br>\n",
    "Height: %s m\n",
    "\"\"\"\n",
    "fg1 = fo.FeatureGroup(name = \"My Map\")\n",
    " \n",
    "for lt, ln, el, name in zip(lat, lon, elev, name):\n",
    "    iframe = fo.IFrame(html=html % (name, name, el), width=200, height=100)\n",
    "    fg.add_child(fo.Marker(location=[lt, ln], popup=fo.Popup(iframe), icon = fo.Icon(color = \"orange\")))\n",
    "  \n",
    "map.add_child(fg1)\n",
    "map.save(\"Map_html_popup_advanced.html\")\n"
   ]
  }
 ],
 "metadata": {
  "kernelspec": {
   "display_name": "Python 3 (ipykernel)",
   "language": "python",
   "name": "python3"
  },
  "language_info": {
   "codemirror_mode": {
    "name": "ipython",
    "version": 3
   },
   "file_extension": ".py",
   "mimetype": "text/x-python",
   "name": "python",
   "nbconvert_exporter": "python",
   "pygments_lexer": "ipython3",
   "version": "3.9.12"
  }
 },
 "nbformat": 4,
 "nbformat_minor": 5
}
